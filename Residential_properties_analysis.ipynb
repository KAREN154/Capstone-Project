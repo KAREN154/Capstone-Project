{
  "nbformat": 4,
  "nbformat_minor": 0,
  "metadata": {
    "colab": {
      "provenance": []
    },
    "kernelspec": {
      "name": "python3",
      "display_name": "Python 3"
    },
    "language_info": {
      "name": "python"
    }
  },
  "cells": [
    {
      "cell_type": "code",
      "source": [
        "%load_ext sql"
      ],
      "metadata": {
        "colab": {
          "base_uri": "https://localhost:8080/"
        },
        "id": "J3W9ZePq8LvK",
        "outputId": "501cc296-2f99-420f-a657-2cdc4b1068fd"
      },
      "execution_count": null,
      "outputs": [
        {
          "output_type": "stream",
          "name": "stdout",
          "text": [
            "The sql extension is already loaded. To reload it, use:\n",
            "  %reload_ext sql\n"
          ]
        }
      ]
    },
    {
      "cell_type": "code",
      "source": [
        "from google.colab import drive\n",
        "drive.mount('/content/drive')"
      ],
      "metadata": {
        "id": "mxjHa9_9CCdO"
      },
      "execution_count": null,
      "outputs": []
    },
    {
      "cell_type": "code",
      "source": [
        "%%sql\n",
        "CREATE TABLE Property (\n",
        "    PropertyID INT PRIMARY KEY,\n",
        "    Title VARCHAR(255),\n",
        "    Location VARCHAR(255),\n",
        "    Bathrooms INT,\n",
        "    Price DECIMAL(10, 2),\n",
        "    Subdivision VARCHAR(50)\n",
        ");\n",
        "\n"
      ],
      "metadata": {
        "colab": {
          "base_uri": "https://localhost:8080/"
        },
        "id": "lpojOBlu9p0X",
        "outputId": "26cfafd7-2246-41fa-fc9e-28e7398d2e69"
      },
      "execution_count": null,
      "outputs": [
        {
          "output_type": "stream",
          "name": "stdout",
          "text": [
            " * sqlite:///Housing.db\n",
            "Done.\n"
          ]
        },
        {
          "output_type": "execute_result",
          "data": {
            "text/plain": [
              "[]"
            ]
          },
          "metadata": {},
          "execution_count": 9
        }
      ]
    },
    {
      "cell_type": "code",
      "source": [
        "%%sql\n",
        "CREATE TABLE Subdivisions (\n",
        "    Area_Subdivision_ID INT PRIMARY KEY,\n",
        "    Area_Category VARCHAR(50)\n",
        ");\n"
      ],
      "metadata": {
        "colab": {
          "base_uri": "https://localhost:8080/"
        },
        "id": "F3vitREqAaUG",
        "outputId": "d5c1a68b-5182-4eca-fe03-f2019492a891"
      },
      "execution_count": null,
      "outputs": [
        {
          "output_type": "stream",
          "name": "stdout",
          "text": [
            " * sqlite:///Housing.db\n",
            "Done.\n"
          ]
        },
        {
          "output_type": "execute_result",
          "data": {
            "text/plain": [
              "[]"
            ]
          },
          "metadata": {},
          "execution_count": 10
        }
      ]
    },
    {
      "cell_type": "markdown",
      "source": [],
      "metadata": {
        "id": "VrlwV4aOSLfX"
      }
    },
    {
      "cell_type": "code",
      "source": [
        "%%sql\n",
        "CREATE TABLE Location_attributes (\n",
        "    LocationID INT PRIMARY KEY,\n",
        "    LocationName VARCHAR(255),\n",
        "    DistanceToCityCenter DECIMAL(10, 2)\n",
        ");"
      ],
      "metadata": {
        "colab": {
          "base_uri": "https://localhost:8080/"
        },
        "id": "NjCuz571JD1H",
        "outputId": "a43a38e4-7774-4f6d-fe3d-7b79b289d559"
      },
      "execution_count": null,
      "outputs": [
        {
          "output_type": "stream",
          "name": "stdout",
          "text": [
            " * sqlite:///Housing.db\n",
            "Done.\n"
          ]
        },
        {
          "output_type": "execute_result",
          "data": {
            "text/plain": [
              "[]"
            ]
          },
          "metadata": {},
          "execution_count": 16
        }
      ]
    },
    {
      "cell_type": "code",
      "source": [
        "%%sql\n",
        "INSERT INTO Location_attributes(LocationID,LocationName,DistanceToCityCenter) VALUES\n",
        "(1,'Flat_to_rent_in_Riverside',5 ),\n",
        "(2,'Flat_to_rent_in_Muthaiga',6.4 ),\n",
        "(3,'Flat_to_rent_in_Lavington',6),\n",
        "(4,'Flat_to_rent_in_Kilimani',4.7),\n",
        "(5,'Flat_to_rent_in_Kikuyu',18.6),\n",
        "(6,'Flat_to_rent_in_Nyali',6.5 );\n",
        "\n"
      ],
      "metadata": {
        "colab": {
          "base_uri": "https://localhost:8080/"
        },
        "id": "Xyp3XAJz4kax",
        "outputId": "2a51f100-ecfd-4962-dd4e-34b7a4afed73"
      },
      "execution_count": null,
      "outputs": [
        {
          "output_type": "stream",
          "name": "stdout",
          "text": [
            " * sqlite:///Housing.db\n",
            "6 rows affected.\n"
          ]
        },
        {
          "output_type": "execute_result",
          "data": {
            "text/plain": [
              "[]"
            ]
          },
          "metadata": {},
          "execution_count": 17
        }
      ]
    },
    {
      "cell_type": "code",
      "source": [
        "%%sql\n",
        "INSERT INTO Subdivisions(Area_Subdivision_ID,Area_Category) VALUES\n",
        "(01,'High Class Residency'),\n",
        "(02,'High Class Residency'),\n",
        "(03,'Upper Middle Class Residency'),\n",
        "(04,'Upper Middle Class Residency'),\n",
        "(05,'Lower Middle Class Residency'),\n",
        "(06,'Lower Middle Class Residency');\n",
        "\n"
      ],
      "metadata": {
        "colab": {
          "base_uri": "https://localhost:8080/"
        },
        "id": "wkZiRd0-K8ol",
        "outputId": "ebab6ced-4e97-4432-cd1e-44fdc0a8c58e"
      },
      "execution_count": null,
      "outputs": [
        {
          "output_type": "stream",
          "name": "stdout",
          "text": [
            " * sqlite:///Housing.db\n",
            "6 rows affected.\n"
          ]
        },
        {
          "output_type": "execute_result",
          "data": {
            "text/plain": [
              "[]"
            ]
          },
          "metadata": {},
          "execution_count": 18
        }
      ]
    },
    {
      "cell_type": "code",
      "source": [
        "%%sql\n",
        "INSERT INTO Property(PropertyID,Title,Location,Bathrooms,Price,Subdivision) VALUES\n",
        "(1,'3 Bedroom Apartment','Riverside_Nairobi',3,200000,'High Class Residency'),\n",
        "(2,'3 Bedroom Apartment','Muthaiga_Nairobi',5,250000,'High Class Residency'),\n",
        "(3,'3 Bedroom Apartment','Near Valley Arcade_Lavington',3,80000,'Upper Middle Class Residency'),\n",
        "(4,'3 Bedroom Apartment','Kilimani_Nairobi',3,75000,'Upper Middle Class Residency'),\n",
        "(5,'3 Bedroom Apartment','Kikuyu Town Bus park',3,55000,'Lower Middle Class Residency'),\n",
        "(6,'3 Bedroom Apartment','Nyali, Mombasa',2,38000,'Lower Middle Class Residency');\n"
      ],
      "metadata": {
        "colab": {
          "base_uri": "https://localhost:8080/"
        },
        "id": "2NVcX5TdNqhM",
        "outputId": "8fce5a71-ec47-48b6-af1e-fd19b65814cc"
      },
      "execution_count": null,
      "outputs": [
        {
          "output_type": "stream",
          "name": "stdout",
          "text": [
            " * sqlite:///Housing.db\n",
            "6 rows affected.\n"
          ]
        },
        {
          "output_type": "execute_result",
          "data": {
            "text/plain": [
              "[]"
            ]
          },
          "metadata": {},
          "execution_count": 21
        }
      ]
    },
    {
      "cell_type": "markdown",
      "source": [
        "Analysis\n",
        "1. Segmentation by Subdivision"
      ],
      "metadata": {
        "id": "ctoYzLe0VETs"
      }
    },
    {
      "cell_type": "code",
      "source": [
        "%%sql\n",
        "SELECT Subdivision, COUNT(PropertyID) AS Property_Count\n",
        "FROM Property\n",
        "GROUP BY Subdivision;\n"
      ],
      "metadata": {
        "colab": {
          "base_uri": "https://localhost:8080/",
          "height": 139
        },
        "id": "TnIrGDz1VCIW",
        "outputId": "da2c499e-e11c-4ca9-970b-8f5d24ec3146"
      },
      "execution_count": null,
      "outputs": [
        {
          "output_type": "stream",
          "name": "stdout",
          "text": [
            " * sqlite:///Housing.db\n",
            "Done.\n"
          ]
        },
        {
          "output_type": "execute_result",
          "data": {
            "text/plain": [
              "[('High Class Residency', 2),\n",
              " ('Lower Middle Class Residency', 2),\n",
              " ('Upper Middle Class Residency', 2)]"
            ],
            "text/html": [
              "<table>\n",
              "    <thead>\n",
              "        <tr>\n",
              "            <th>Subdivision</th>\n",
              "            <th>Property_Count</th>\n",
              "        </tr>\n",
              "    </thead>\n",
              "    <tbody>\n",
              "        <tr>\n",
              "            <td>High Class Residency</td>\n",
              "            <td>2</td>\n",
              "        </tr>\n",
              "        <tr>\n",
              "            <td>Lower Middle Class Residency</td>\n",
              "            <td>2</td>\n",
              "        </tr>\n",
              "        <tr>\n",
              "            <td>Upper Middle Class Residency</td>\n",
              "            <td>2</td>\n",
              "        </tr>\n",
              "    </tbody>\n",
              "</table>"
            ]
          },
          "metadata": {},
          "execution_count": 27
        }
      ]
    },
    {
      "cell_type": "markdown",
      "source": [
        "2. Price Analysis by Subdivision:\n"
      ],
      "metadata": {
        "id": "l75wttCkZbwN"
      }
    },
    {
      "cell_type": "code",
      "source": [
        "%%sql\n",
        "SELECT Subdivision, AVG(Price) AS Avg_Price\n",
        "FROM Property\n",
        "GROUP BY Subdivision;\n"
      ],
      "metadata": {
        "colab": {
          "base_uri": "https://localhost:8080/",
          "height": 139
        },
        "id": "THTfoHa_ZayQ",
        "outputId": "e71f44f1-2834-4c91-f572-6ffa440b33ec"
      },
      "execution_count": null,
      "outputs": [
        {
          "output_type": "stream",
          "name": "stdout",
          "text": [
            " * sqlite:///Housing.db\n",
            "Done.\n"
          ]
        },
        {
          "output_type": "execute_result",
          "data": {
            "text/plain": [
              "[('High Class Residency', 225000.0),\n",
              " ('Lower Middle Class Residency', 46500.0),\n",
              " ('Upper Middle Class Residency', 77500.0)]"
            ],
            "text/html": [
              "<table>\n",
              "    <thead>\n",
              "        <tr>\n",
              "            <th>Subdivision</th>\n",
              "            <th>Avg_Price</th>\n",
              "        </tr>\n",
              "    </thead>\n",
              "    <tbody>\n",
              "        <tr>\n",
              "            <td>High Class Residency</td>\n",
              "            <td>225000.0</td>\n",
              "        </tr>\n",
              "        <tr>\n",
              "            <td>Lower Middle Class Residency</td>\n",
              "            <td>46500.0</td>\n",
              "        </tr>\n",
              "        <tr>\n",
              "            <td>Upper Middle Class Residency</td>\n",
              "            <td>77500.0</td>\n",
              "        </tr>\n",
              "    </tbody>\n",
              "</table>"
            ]
          },
          "metadata": {},
          "execution_count": 28
        }
      ]
    },
    {
      "cell_type": "markdown",
      "source": [
        "3. Property Characteristics by Subdivision:\n"
      ],
      "metadata": {
        "id": "1uKt03GIafLS"
      }
    },
    {
      "cell_type": "code",
      "source": [
        "%%sql\n",
        "SELECT Subdivision, AVG(Bathrooms) AS Avg_Bathrooms\n",
        "FROM Property\n",
        "GROUP BY Subdivision;\n"
      ],
      "metadata": {
        "colab": {
          "base_uri": "https://localhost:8080/",
          "height": 139
        },
        "id": "AhqEBbtxaeWV",
        "outputId": "bdfc60d6-6f9e-486c-d990-4b504959aa14"
      },
      "execution_count": null,
      "outputs": [
        {
          "output_type": "stream",
          "name": "stdout",
          "text": [
            " * sqlite:///Housing.db\n",
            "Done.\n"
          ]
        },
        {
          "output_type": "execute_result",
          "data": {
            "text/plain": [
              "[('High Class Residency', 4.0),\n",
              " ('Lower Middle Class Residency', 2.5),\n",
              " ('Upper Middle Class Residency', 3.0)]"
            ],
            "text/html": [
              "<table>\n",
              "    <thead>\n",
              "        <tr>\n",
              "            <th>Subdivision</th>\n",
              "            <th>Avg_Bathrooms</th>\n",
              "        </tr>\n",
              "    </thead>\n",
              "    <tbody>\n",
              "        <tr>\n",
              "            <td>High Class Residency</td>\n",
              "            <td>4.0</td>\n",
              "        </tr>\n",
              "        <tr>\n",
              "            <td>Lower Middle Class Residency</td>\n",
              "            <td>2.5</td>\n",
              "        </tr>\n",
              "        <tr>\n",
              "            <td>Upper Middle Class Residency</td>\n",
              "            <td>3.0</td>\n",
              "        </tr>\n",
              "    </tbody>\n",
              "</table>"
            ]
          },
          "metadata": {},
          "execution_count": 30
        }
      ]
    },
    {
      "cell_type": "markdown",
      "source": [
        "4. Market Share by Subdivision:\n"
      ],
      "metadata": {
        "id": "oYn2pVmebOJI"
      }
    },
    {
      "cell_type": "code",
      "source": [
        "%%sql\n",
        "SELECT Subdivision, COUNT(PropertyID) / (SELECT COUNT(PropertyID) FROM Property) AS Market_Share\n",
        "FROM Property\n",
        "GROUP BY Subdivision;\n"
      ],
      "metadata": {
        "colab": {
          "base_uri": "https://localhost:8080/",
          "height": 139
        },
        "id": "bwpWGiNMbOp-",
        "outputId": "a1ba52a6-f259-4151-ce13-e80bca0c4789"
      },
      "execution_count": null,
      "outputs": [
        {
          "output_type": "stream",
          "name": "stdout",
          "text": [
            " * sqlite:///Housing.db\n",
            "Done.\n"
          ]
        },
        {
          "output_type": "execute_result",
          "data": {
            "text/plain": [
              "[('High Class Residency', 0),\n",
              " ('Lower Middle Class Residency', 0),\n",
              " ('Upper Middle Class Residency', 0)]"
            ],
            "text/html": [
              "<table>\n",
              "    <thead>\n",
              "        <tr>\n",
              "            <th>Subdivision</th>\n",
              "            <th>Market_Share</th>\n",
              "        </tr>\n",
              "    </thead>\n",
              "    <tbody>\n",
              "        <tr>\n",
              "            <td>High Class Residency</td>\n",
              "            <td>0</td>\n",
              "        </tr>\n",
              "        <tr>\n",
              "            <td>Lower Middle Class Residency</td>\n",
              "            <td>0</td>\n",
              "        </tr>\n",
              "        <tr>\n",
              "            <td>Upper Middle Class Residency</td>\n",
              "            <td>0</td>\n",
              "        </tr>\n",
              "    </tbody>\n",
              "</table>"
            ]
          },
          "metadata": {},
          "execution_count": 32
        }
      ]
    },
    {
      "cell_type": "markdown",
      "source": [
        "5. Location Analysis:\n"
      ],
      "metadata": {
        "id": "fI0BI8r5VDB8"
      }
    },
    {
      "cell_type": "code",
      "source": [
        "%%sql\n",
        "SELECT Subdivision, Location, COUNT(PropertyID) AS Property_Count\n",
        "FROM Property\n",
        "GROUP BY Subdivision, Location;\n"
      ],
      "metadata": {
        "colab": {
          "base_uri": "https://localhost:8080/",
          "height": 203
        },
        "id": "lsRXGuzMdb5x",
        "outputId": "c759e1e0-8dff-4946-cc1c-595a9de6e574"
      },
      "execution_count": null,
      "outputs": [
        {
          "output_type": "stream",
          "name": "stdout",
          "text": [
            " * sqlite:///Housing.db\n",
            "Done.\n"
          ]
        },
        {
          "output_type": "execute_result",
          "data": {
            "text/plain": [
              "[('High Class Residency', 'Muthaiga_Nairobi', 1),\n",
              " ('High Class Residency', 'Riverside_Nairobi', 1),\n",
              " ('Lower Middle Class Residency', 'Kikuyu Town Bus park', 1),\n",
              " ('Lower Middle Class Residency', 'Nyali, Mombasa', 1),\n",
              " ('Upper Middle Class Residency', 'Kilimani_Nairobi', 1),\n",
              " ('Upper Middle Class Residency', 'Near Valley Arcade_Lavington', 1)]"
            ],
            "text/html": [
              "<table>\n",
              "    <thead>\n",
              "        <tr>\n",
              "            <th>Subdivision</th>\n",
              "            <th>Location</th>\n",
              "            <th>Property_Count</th>\n",
              "        </tr>\n",
              "    </thead>\n",
              "    <tbody>\n",
              "        <tr>\n",
              "            <td>High Class Residency</td>\n",
              "            <td>Muthaiga_Nairobi</td>\n",
              "            <td>1</td>\n",
              "        </tr>\n",
              "        <tr>\n",
              "            <td>High Class Residency</td>\n",
              "            <td>Riverside_Nairobi</td>\n",
              "            <td>1</td>\n",
              "        </tr>\n",
              "        <tr>\n",
              "            <td>Lower Middle Class Residency</td>\n",
              "            <td>Kikuyu Town Bus park</td>\n",
              "            <td>1</td>\n",
              "        </tr>\n",
              "        <tr>\n",
              "            <td>Lower Middle Class Residency</td>\n",
              "            <td>Nyali, Mombasa</td>\n",
              "            <td>1</td>\n",
              "        </tr>\n",
              "        <tr>\n",
              "            <td>Upper Middle Class Residency</td>\n",
              "            <td>Kilimani_Nairobi</td>\n",
              "            <td>1</td>\n",
              "        </tr>\n",
              "        <tr>\n",
              "            <td>Upper Middle Class Residency</td>\n",
              "            <td>Near Valley Arcade_Lavington</td>\n",
              "            <td>1</td>\n",
              "        </tr>\n",
              "    </tbody>\n",
              "</table>"
            ]
          },
          "metadata": {},
          "execution_count": 35
        }
      ]
    },
    {
      "cell_type": "markdown",
      "source": [],
      "metadata": {
        "id": "KcaWAN3jfOfz"
      }
    }
  ]
}